{
 "cells": [
  {
   "cell_type": "markdown",
   "metadata": {
    "pycharm": {
     "name": "#%% md\n"
    }
   },
   "source": [
    "# Testing"
   ]
  },
  {
   "cell_type": "code",
   "execution_count": 1,
   "metadata": {
    "collapsed": false,
    "jupyter": {
     "outputs_hidden": false
    },
    "pycharm": {
     "name": "#%%\n"
    }
   },
   "outputs": [],
   "source": [
    "from datetime import datetime\n",
    "\n",
    "from sqlalchemy import MetaData, Table, Column, Integer, Numeric, String, DateTime, ForeignKey, Boolean, create_engine\n",
    "from sqlalchemy.sql import insert, select\n",
    "\n",
    "\n",
    "class DataAccessLayer:\n",
    "    connection = None\n",
    "    engine = None\n",
    "    conn_string = None\n",
    "\n",
    "    metadata = MetaData()\n",
    "\n",
    "    cookies = Table('cookies',\n",
    "                    metadata,\n",
    "                    Column('cookie_id', Integer(), primary_key=True),\n",
    "                    Column('cookie_name', String(50), index=True),\n",
    "                    Column('cookie_recipe_url', String(255)),\n",
    "                    Column('cookie_sku', String(55)),\n",
    "                    Column('quantity', Integer()),\n",
    "                    Column('unit_cost', Numeric(12, 2))\n",
    "                    )\n",
    "\n",
    "    users = Table('users', metadata,\n",
    "                  Column('user_id', Integer(), primary_key=True),\n",
    "                  Column('customer_number', Integer(), autoincrement=True),\n",
    "                  Column('username', String(15), nullable=False, unique=True),\n",
    "                  Column('email_address', String(255), nullable=False),\n",
    "                  Column('phone', String(20), nullable=False),\n",
    "                  Column('password', String(25), nullable=False),\n",
    "                  Column('created_on', DateTime(), default=datetime.now),\n",
    "                  Column('updated_on', DateTime(), default=datetime.now, onupdate=datetime.now)\n",
    "                  )\n",
    "\n",
    "    orders = Table('orders', metadata,\n",
    "                   Column('order_id', Integer()),\n",
    "                   Column('user_id', ForeignKey('users.user_id')),\n",
    "                   Column('shipped', Boolean(), default=False)\n",
    "                   )\n",
    "\n",
    "    line_items = Table('line_items', metadata,\n",
    "                       Column('line_items_id', Integer(), primary_key=True),\n",
    "                       Column('order_id', ForeignKey('orders.order_id')),\n",
    "                       Column('cookie_id', ForeignKey('cookies.cookie_id')),\n",
    "                       Column('quantity', Integer()),\n",
    "                       Column('extended_cost', Numeric(12, 2))\n",
    "                       )\n",
    "\n",
    "    def db_init(self, conn_string):\n",
    "        self.engine = create_engine(conn_string or self.conn_string)\n",
    "        self.metadata.create_all(self.engine)\n",
    "        self.connection = self.engine.connect()"
   ]
  },
  {
   "cell_type": "code",
   "execution_count": 2,
   "metadata": {
    "collapsed": false,
    "jupyter": {
     "outputs_hidden": false
    },
    "pycharm": {
     "name": "#%%\n"
    }
   },
   "outputs": [],
   "source": [
    "dal = DataAccessLayer()"
   ]
  },
  {
   "cell_type": "code",
   "execution_count": 3,
   "metadata": {
    "collapsed": false,
    "jupyter": {
     "outputs_hidden": false
    },
    "pycharm": {
     "name": "#%%\n"
    }
   },
   "outputs": [],
   "source": [
    "def prep_db():\n",
    "    ins = dal.cookies.insert()\n",
    "    dal.connection.execute(ins, cookie_name='dark chocolate chip',\n",
    "                           cookie_recipe_url='http://some.aweso.me/cookie/recipe_dark.html',\n",
    "                           cookie_sku='CC02',\n",
    "                           quantity='1',\n",
    "                           unit_cost='0.75')\n",
    "    inventory_list = [\n",
    "        {\n",
    "            'cookie_name': 'peanut butter',\n",
    "            'cookie_recipe_url': 'http://some.aweso.me/cookie/peanut.html',\n",
    "            'cookie_sku': 'PB01',\n",
    "            'quantity': '24',\n",
    "            'unit_cost': '0.25'\n",
    "        },\n",
    "        {\n",
    "            'cookie_name': 'oatmeal raisin',\n",
    "            'cookie_recipe_url': 'http://some.okay.me/cookie/raisin.html',\n",
    "            'cookie_sku': 'EWW01',\n",
    "            'quantity': '100',\n",
    "            'unit_cost': '1.00'\n",
    "        }\n",
    "    ]\n",
    "    dal.connection.execute(ins, inventory_list)\n",
    "\n",
    "    customer_list = [\n",
    "        {\n",
    "            'username': \"cookiemon\",\n",
    "            'email_address': \"mon@cookie.com\",\n",
    "            'phone': \"111-111-1111\",\n",
    "            'password': \"password\"\n",
    "        },\n",
    "        {\n",
    "            'username': \"cakeeater\",\n",
    "            'email_address': \"cakeeater@cake.com\",\n",
    "            'phone': \"222-222-2222\",\n",
    "            'password': \"password\"\n",
    "        },\n",
    "        {\n",
    "            'username': \"pieguy\",\n",
    "            'email_address': \"guy@pie.com\",\n",
    "            'phone': \"333-333-3333\",\n",
    "            'password': \"password\"\n",
    "        }\n",
    "    ]\n",
    "    ins = dal.users.insert()\n",
    "    dal.connection.execute(ins, customer_list)\n",
    "    ins = insert(dal.orders).values(user_id=1, order_id='wlk001')\n",
    "    dal.connection.execute(ins)\n",
    "    ins = insert(dal.line_items)\n",
    "    order_items = [\n",
    "        {\n",
    "            'order_id': 'wlk001',\n",
    "            'cookie_id': 1,\n",
    "            'quantity': 2,\n",
    "            'extended_cost': 1.00\n",
    "        },\n",
    "        {\n",
    "            'order_id': 'wlk001',\n",
    "            'cookie_id': 3,\n",
    "            'quantity': 12,\n",
    "            'extended_cost': 3.00\n",
    "        }\n",
    "    ]\n",
    "    dal.connection.execute(ins, order_items)\n",
    "    ins = insert(dal.orders).values(user_id=2, order_id='ol001')\n",
    "    dal.connection.execute(ins)\n",
    "    ins = insert(dal.line_items)\n",
    "    order_items = [\n",
    "        {\n",
    "            'order_id': 'ol001',\n",
    "            'cookie_id': 1,\n",
    "            'quantity': 24,\n",
    "            'extended_cost': 12.00\n",
    "        },\n",
    "        {\n",
    "            'order_id': 'ol001',\n",
    "            'cookie_id': 4,\n",
    "            'quantity': 6,\n",
    "            'extended_cost': 6.00\n",
    "        }\n",
    "    ]\n",
    "    dal.connection.execute(ins, order_items)"
   ]
  },
  {
   "cell_type": "code",
   "execution_count": 4,
   "metadata": {
    "collapsed": false,
    "jupyter": {
     "outputs_hidden": false
    },
    "pycharm": {
     "name": "#%%\n"
    }
   },
   "outputs": [],
   "source": [
    "def get_orders_by_customer(cust_name, shipped=None, details=False):\n",
    "    columns = [dal.orders.c.order_id, dal.users.c.username, dal.users.c.phone]\n",
    "    joins = dal.users.join(dal.orders)\n",
    "    if details:\n",
    "        columns.extend([dal.cookies.c.cookie_name, dal.line_items.c.quantity, dal.line_items.c.extended_cost])\n",
    "        joins = joins.join(dal.line_items).join(dal.cookies)\n",
    "    cust_orders = select(columns)\n",
    "    cust_orders = cust_orders.select_from(joins).where(\n",
    "        dal.users.c.username == cust_name)\n",
    "    if shipped is not None:\n",
    "        cust_orders = cust_orders.where(dal.orders.c.shipped == shipped)\n",
    "    result = dal.connection.execute(cust_orders).fetchall()\n",
    "    return result"
   ]
  },
  {
   "cell_type": "code",
   "execution_count": 5,
   "metadata": {
    "collapsed": false,
    "jupyter": {
     "outputs_hidden": false
    },
    "pycharm": {
     "name": "#%%\n"
    }
   },
   "outputs": [],
   "source": [
    "import unittest\n",
    "from decimal import Decimal\n",
    "\n",
    "\n",
    "class TestApp(unittest.TestCase):\n",
    "    cookie_orders = [(u'wlk001', u'cookiemon', u'111-111-1111')]\n",
    "    cookie_details = [\n",
    "        (u'wlk001', u'cookiemon', u'111-111-1111',\n",
    "         u'dark chocolate chip', 2, Decimal('1.00')),\n",
    "        (u'wlk001', u'cookiemon', u'111-111-1111',\n",
    "         u'oatmeal raisin', 12, Decimal('3.00'))]\n",
    "\n",
    "    @classmethod\n",
    "    def setUpClass(cls):\n",
    "        dal.db_init('sqlite:///:memory:')\n",
    "        prep_db()\n",
    "\n",
    "    def test_orders_by_customer_blank(self):\n",
    "        results = get_orders_by_customer('')\n",
    "        self.assertEqual(results, [])\n",
    "\n",
    "    def test_orders_by_customer_blank_shipped(self):\n",
    "        results = get_orders_by_customer('', True)\n",
    "        self.assertEqual(results, [])\n",
    "\n",
    "    def test_orders_by_customer_blank_notshipped(self):\n",
    "        results = get_orders_by_customer('', False)\n",
    "        self.assertEqual(results, [])\n",
    "\n",
    "    def test_orders_by_customer_blank_details(self):\n",
    "        results = get_orders_by_customer('', details=True)\n",
    "        self.assertEqual(results, [])\n",
    "\n",
    "    def test_orders_by_customer_blank_shipped_details(self):\n",
    "        results = get_orders_by_customer('', True, True)\n",
    "        self.assertEqual(results, [])\n",
    "\n",
    "    def test_orders_by_customer_blank_notshipped_details(self):\n",
    "        results = get_orders_by_customer('', False, True)\n",
    "        self.assertEqual(results, [])\n",
    "\n",
    "    def test_orders_by_customer_bad_cust(self):\n",
    "        results = get_orders_by_customer('bad name')\n",
    "        self.assertEqual(results, [])\n",
    "\n",
    "    def test_orders_by_customer_bad_cust_shipped(self):\n",
    "        results = get_orders_by_customer('bad name', True)\n",
    "        self.assertEqual(results, [])\n",
    "\n",
    "    def test_orders_by_customer_bad_cust_notshipped(self):\n",
    "        results = get_orders_by_customer('bad name', False)\n",
    "        self.assertEqual(results, [])\n",
    "\n",
    "    def test_orders_by_customer_bad_cust_details(self):\n",
    "        results = get_orders_by_customer('bad name', details=True)\n",
    "        self.assertEqual(results, [])\n",
    "\n",
    "    def test_orders_by_customer_bad_cust_shipped_details(self):\n",
    "        results = get_orders_by_customer('bad name', True, True)\n",
    "        self.assertEqual(results, [])\n",
    "\n",
    "    def test_orders_by_customer_bad_cust_notshipped_details(self):\n",
    "        results = get_orders_by_customer('bad name', False, True)\n",
    "        self.assertEqual(results, [])\n",
    "\n",
    "    def test_orders_by_customer(self):\n",
    "        results = get_orders_by_customer('cookiemon')\n",
    "        self.assertEqual(results, self.cookie_orders)\n",
    "\n",
    "    def test_orders_by_customer_shipped_only(self):\n",
    "        results = get_orders_by_customer('cookiemon', True)\n",
    "        self.assertEqual(results, [])\n",
    "\n",
    "    def test_orders_by_customer_unshipped_only(self):\n",
    "        results = get_orders_by_customer('cookiemon', False)\n",
    "        self.assertEqual(results, self.cookie_orders)\n",
    "\n",
    "    def test_orders_by_customer_with_details(self):\n",
    "        results = get_orders_by_customer('cookiemon', details=True)\n",
    "        self.assertEqual(results, self.cookie_details)\n",
    "\n",
    "    def test_orders_by_customer_shipped_only_with_details(self):\n",
    "        results = get_orders_by_customer('cookiemon', True, True)\n",
    "        self.assertEqual(results, [])\n",
    "\n",
    "    def test_orders_by_customer_unshipped_only_details(self):\n",
    "        results = get_orders_by_customer('cookiemon', False, True)\n",
    "        self.assertEqual(results, self.cookie_details)"
   ]
  },
  {
   "cell_type": "code",
   "execution_count": 6,
   "metadata": {
    "collapsed": false,
    "jupyter": {
     "outputs_hidden": false
    },
    "pycharm": {
     "name": "#%%\n"
    }
   },
   "outputs": [
    {
     "name": "stderr",
     "output_type": "stream",
     "text": [
      "test_orders_by_customer (__main__.TestApp) ... ok\n",
      "test_orders_by_customer_bad_cust (__main__.TestApp) ... ok\n",
      "test_orders_by_customer_bad_cust_details (__main__.TestApp) ... C:\\Users\\sigma\\AppData\\Local\\Temp\\ipykernel_6412\\3105641323.py:12: SAWarning: Dialect sqlite+pysqlite does *not* support Decimal objects natively, and SQLAlchemy must convert from floating point - rounding errors and other issues may occur. Please consider storing Decimal numbers as strings or integers on this platform for lossless storage.\n",
      "  result = dal.connection.execute(cust_orders).fetchall()\n",
      "ok\n",
      "test_orders_by_customer_bad_cust_notshipped (__main__.TestApp) ... ok\n",
      "test_orders_by_customer_bad_cust_notshipped_details (__main__.TestApp) ... ok\n",
      "test_orders_by_customer_bad_cust_shipped (__main__.TestApp) ... ok\n",
      "test_orders_by_customer_bad_cust_shipped_details (__main__.TestApp) ... ok\n",
      "test_orders_by_customer_blank (__main__.TestApp) ... ok\n",
      "test_orders_by_customer_blank_details (__main__.TestApp) ... ok\n",
      "test_orders_by_customer_blank_notshipped (__main__.TestApp) ... ok\n",
      "test_orders_by_customer_blank_notshipped_details (__main__.TestApp) ... ok\n",
      "test_orders_by_customer_blank_shipped (__main__.TestApp) ... ok\n",
      "test_orders_by_customer_blank_shipped_details (__main__.TestApp) ... ok\n",
      "test_orders_by_customer_shipped_only (__main__.TestApp) ... ok\n",
      "test_orders_by_customer_shipped_only_with_details (__main__.TestApp) ... ok\n",
      "test_orders_by_customer_unshipped_only (__main__.TestApp) ... ok\n",
      "test_orders_by_customer_unshipped_only_details (__main__.TestApp) ... ok\n",
      "test_orders_by_customer_with_details (__main__.TestApp) ... ok\n",
      "\n",
      "----------------------------------------------------------------------\n",
      "Ran 18 tests in 0.063s\n",
      "\n",
      "OK\n"
     ]
    },
    {
     "data": {
      "text/plain": [
       "<unittest.main.TestProgram at 0x1447b894a30>"
      ]
     },
     "execution_count": 6,
     "metadata": {},
     "output_type": "execute_result"
    }
   ],
   "source": [
    "unittest.main(argv=[''], verbosity=2, exit=False)"
   ]
  },
  {
   "cell_type": "code",
   "execution_count": 7,
   "metadata": {
    "collapsed": false,
    "jupyter": {
     "outputs_hidden": false
    },
    "pycharm": {
     "name": "#%%\n"
    }
   },
   "outputs": [],
   "source": [
    "import unittest\n",
    "from sqlalchemy import select\n",
    "from unittest import mock\n",
    "from decimal import Decimal\n",
    "\n",
    "\n",
    "class TestApp(unittest.TestCase):\n",
    "    cookie_orders = [(u'wlk001', u'cookiemon', u'111-111-1111')]\n",
    "    cookie_details = [(u'wlk001', u'cookiemon', u'111-111-1111', u'dark chocolate chip', 2, Decimal('1.00')),\n",
    "                      (u'wlk001', u'cookiemon', u'111-111-1111', u'oatmeal raisin', 12, Decimal('3.00'))]\n",
    "\n",
    "    @mock.call('dal.connection')\n",
    "    @mock.call('select')\n",
    "    def test_orders_by_customer_blank(self, mock_conn, mock_select):\n",
    "        mock_select.return_value.select_from.return_value.where.return_value = None\n",
    "        mock_conn.execute.return_value.fetchall.return_value = []\n",
    "        results = get_orders_by_customer('')\n",
    "        self.assertEqual(results, [])\n",
    "\n",
    "    @mock.call('dal.connection')\n",
    "    def test_orders_by_customer_blank_shipped(self, mock_conn):\n",
    "        mock_conn.execute.return_value.fetchall.return_value = []\n",
    "        results = get_orders_by_customer('', True)\n",
    "        self.assertEqual(results, [])\n",
    "\n",
    "    @mock.call('dal.connection')\n",
    "    def test_orders_by_customer(self, mock_conn):\n",
    "        mock_conn.execute.return_value.fetchall.return_value = self.cookie_orders\n",
    "        results = get_orders_by_customer('cookiemon')\n",
    "        self.assertEqual(results, self.cookie_orders)"
   ]
  },
  {
   "cell_type": "code",
   "execution_count": 8,
   "metadata": {
    "collapsed": false,
    "jupyter": {
     "outputs_hidden": false
    },
    "pycharm": {
     "name": "#%%\n"
    }
   },
   "outputs": [
    {
     "name": "stderr",
     "output_type": "stream",
     "text": [
      "test_orders_by_customer (__main__.TestApp)\n",
      "()().__doc__.strip().split ... skipped call()().__unittest_skip_why__\n",
      "test_orders_by_customer_blank (__main__.TestApp)\n",
      "()().__doc__.strip().split ... skipped call()().__unittest_skip_why__\n",
      "test_orders_by_customer_blank_shipped (__main__.TestApp)\n",
      "()().__doc__.strip().split ... skipped call()().__unittest_skip_why__\n",
      "\n",
      "----------------------------------------------------------------------\n",
      "Ran 3 tests in 0.002s\n",
      "\n",
      "OK (skipped=3)\n"
     ]
    },
    {
     "data": {
      "text/plain": [
       "<unittest.main.TestProgram at 0x1447eaee820>"
      ]
     },
     "execution_count": 8,
     "metadata": {},
     "output_type": "execute_result"
    }
   ],
   "source": [
    "unittest.main(argv=[''], verbosity=2, exit=False)"
   ]
  },
  {
   "cell_type": "code",
   "execution_count": null,
   "metadata": {
    "collapsed": false,
    "jupyter": {
     "outputs_hidden": false
    },
    "pycharm": {
     "name": "#%%\n"
    }
   },
   "outputs": [],
   "source": []
  }
 ],
 "metadata": {
  "kernelspec": {
   "display_name": "Python 3 (ipykernel)",
   "language": "python",
   "name": "python3"
  },
  "language_info": {
   "codemirror_mode": {
    "name": "ipython",
    "version": 3
   },
   "file_extension": ".py",
   "mimetype": "text/x-python",
   "name": "python",
   "nbconvert_exporter": "python",
   "pygments_lexer": "ipython3",
   "version": "3.9.13"
  }
 },
 "nbformat": 4,
 "nbformat_minor": 4
}
