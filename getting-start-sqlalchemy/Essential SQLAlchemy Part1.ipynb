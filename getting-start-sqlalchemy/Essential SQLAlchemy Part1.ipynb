{
 "cells": [
  {
   "cell_type": "markdown",
   "id": "1b48bf80-7461-488a-81ed-bd9a6e27483c",
   "metadata": {
    "pycharm": {
     "name": "#%% md\n"
    }
   },
   "source": [
    "# SQLAlchemy Core"
   ]
  },
  {
   "cell_type": "markdown",
   "id": "ba563d13-4bef-4adf-bc68-86be28c3eddc",
   "metadata": {
    "pycharm": {
     "name": "#%% md\n"
    }
   },
   "source": [
    "## Schema and Types"
   ]
  },
  {
   "cell_type": "code",
   "execution_count": 1,
   "id": "d2c3993e-57b1-44cf-9b6b-f9426c3906e6",
   "metadata": {
    "pycharm": {
     "name": "#%%\n"
    }
   },
   "outputs": [],
   "source": [
    "from datetime import datetime\n",
    "\n",
    "from sqlalchemy import DateTime\n",
    "from sqlalchemy import MetaData\n",
    "from sqlalchemy import Table, Column, Integer, String, Boolean, Float"
   ]
  },
  {
   "cell_type": "code",
   "execution_count": 2,
   "outputs": [],
   "source": [
    "metadata = MetaData()"
   ],
   "metadata": {
    "collapsed": false,
    "pycharm": {
     "name": "#%%\n"
    }
   }
  },
  {
   "cell_type": "code",
   "execution_count": 3,
   "id": "c6dde536-8157-45a4-9b2b-0c8144d7d445",
   "metadata": {
    "pycharm": {
     "name": "#%%\n"
    }
   },
   "outputs": [],
   "source": [
    "cookies = Table('cookies', metadata,\n",
    "                Column('cookie_id', Integer(), primary_key=True),\n",
    "                Column('cookie_name', String(50), index=True),\n",
    "                Column('cookie_recipe_url', String(255)),\n",
    "                Column('cookie_sku', String(55)),\n",
    "                Column('quantity', Integer()),\n",
    "                Column('unit_cost', Float(12))\n",
    "                )"
   ]
  },
  {
   "cell_type": "code",
   "execution_count": 4,
   "id": "16f1168d-4e51-413d-a4fb-25cd92d4ca10",
   "metadata": {
    "pycharm": {
     "name": "#%%\n"
    }
   },
   "outputs": [],
   "source": [
    "users = Table('users', metadata,\n",
    "              Column('user_id', Integer(), primary_key=True),\n",
    "              Column('customer_number', Integer(), autoincrement=True),\n",
    "              Column('username', String(15), nullable=False, unique=True),\n",
    "              Column('email_address', String(255), nullable=False),\n",
    "              Column('phone', String(20), nullable=False),\n",
    "              Column('password', String(25), nullable=False),\n",
    "              Column('created_on', DateTime(), default=datetime.now),\n",
    "              Column('updated_on', DateTime(), default=datetime.now, onupdate=datetime.now)\n",
    "              )"
   ]
  },
  {
   "cell_type": "code",
   "execution_count": 5,
   "id": "3a2fc8f4-3d05-415f-99ae-63ee89079d87",
   "metadata": {
    "pycharm": {
     "name": "#%%\n"
    }
   },
   "outputs": [],
   "source": [
    "from sqlalchemy import ForeignKey\n",
    "\n",
    "orders = Table('orders', metadata,\n",
    "               Column('order_id', Integer(), primary_key=True),\n",
    "               Column('user_id', ForeignKey('users.user_id')),\n",
    "               Column('shipped', Boolean(), default=False)\n",
    "               )"
   ]
  },
  {
   "cell_type": "code",
   "execution_count": 6,
   "id": "d2c196c3-acc3-4588-92ac-4bb529b4b42e",
   "metadata": {
    "pycharm": {
     "name": "#%%\n"
    }
   },
   "outputs": [],
   "source": [
    "line_items = Table('line_items', metadata,\n",
    "                   Column('line_items_id', Integer(), primary_key=True),\n",
    "                   Column('order_id', ForeignKey('orders.order_id')),\n",
    "                   Column('cookie_id', ForeignKey('cookies.cookie_id')),\n",
    "                   Column('quantity', Integer()),\n",
    "                   Column('extended_cost', Float(12))\n",
    "                   )"
   ]
  },
  {
   "cell_type": "code",
   "execution_count": 7,
   "id": "76f37cb2-0e88-4c14-9251-399974974e0a",
   "metadata": {
    "pycharm": {
     "name": "#%%\n"
    }
   },
   "outputs": [],
   "source": [
    "from sqlalchemy import create_engine\n",
    "\n",
    "engine = create_engine('sqlite:///:memory:')\n",
    "connection = engine.connect()\n",
    "metadata.create_all(engine)"
   ]
  },
  {
   "cell_type": "markdown",
   "id": "0077fcca-1f76-429a-ad58-1933b96c4373",
   "metadata": {
    "pycharm": {
     "name": "#%% md\n"
    }
   },
   "source": [
    "## Working with Data via SQLAlchemy Core"
   ]
  },
  {
   "cell_type": "markdown",
   "id": "d58501ae-4c25-4360-b322-b5719c1cb9f5",
   "metadata": {
    "pycharm": {
     "name": "#%% md\n"
    }
   },
   "source": [
    "### Insert"
   ]
  },
  {
   "cell_type": "code",
   "execution_count": 8,
   "id": "7b6dc4f2-21ef-4d54-8b3e-79c091892017",
   "metadata": {
    "pycharm": {
     "name": "#%%\n"
    }
   },
   "outputs": [],
   "source": [
    "from sqlalchemy import insert"
   ]
  },
  {
   "cell_type": "code",
   "execution_count": 9,
   "id": "97cd9b22-b260-491c-8c49-cd653a6129d5",
   "metadata": {
    "pycharm": {
     "name": "#%%\n"
    }
   },
   "outputs": [],
   "source": [
    "ins = insert(cookies).values(\n",
    "    cookie_name=\"chocolate chip\",\n",
    "    cookie_recipe_url=\"https://some.aweso.me/cookie/recipe.html\",\n",
    "    cookie_sku=\"CC01\",\n",
    "    quantity=\"12\",\n",
    "    unit_cost=\"0.50\"\n",
    ")"
   ]
  },
  {
   "cell_type": "code",
   "execution_count": 10,
   "id": "2a7e789b-ecbf-45c4-9e9d-e732b1144cab",
   "metadata": {
    "pycharm": {
     "name": "#%%\n"
    }
   },
   "outputs": [
    {
     "data": {
      "text/plain": "{'cookie_name': 'chocolate chip',\n 'cookie_recipe_url': 'https://some.aweso.me/cookie/recipe.html',\n 'cookie_sku': 'CC01',\n 'quantity': '12',\n 'unit_cost': '0.50'}"
     },
     "execution_count": 10,
     "metadata": {},
     "output_type": "execute_result"
    }
   ],
   "source": [
    "ins.compile().params"
   ]
  },
  {
   "cell_type": "code",
   "execution_count": 11,
   "id": "c620e244-f3bb-427f-8149-af26342584f3",
   "metadata": {
    "pycharm": {
     "name": "#%%\n"
    }
   },
   "outputs": [
    {
     "data": {
      "text/plain": "(1,)"
     },
     "execution_count": 11,
     "metadata": {},
     "output_type": "execute_result"
    }
   ],
   "source": [
    "result = connection.execute(ins)\n",
    "result.inserted_primary_key"
   ]
  },
  {
   "cell_type": "code",
   "execution_count": 12,
   "id": "9fe6f737-10d2-4c05-908a-2522252d1c7b",
   "metadata": {
    "pycharm": {
     "name": "#%%\n"
    }
   },
   "outputs": [],
   "source": [
    "ins = cookies.insert()\n",
    "result = connection.execute(\n",
    "    ins,\n",
    "    cookie_name='dark chocolate chip',\n",
    "    cookie_recipe_url='https://some.aweso.me/cookie/recipe_dark.html',\n",
    "    cookie_sku='CC02',\n",
    "    quantity='1',\n",
    "    unit_cost='0.75'\n",
    ")"
   ]
  },
  {
   "cell_type": "code",
   "execution_count": 13,
   "outputs": [
    {
     "data": {
      "text/plain": "(2,)"
     },
     "execution_count": 13,
     "metadata": {},
     "output_type": "execute_result"
    }
   ],
   "source": [
    "result.inserted_primary_key"
   ],
   "metadata": {
    "collapsed": false,
    "pycharm": {
     "name": "#%%\n"
    }
   }
  },
  {
   "cell_type": "code",
   "execution_count": 14,
   "id": "327e56be-e0db-4d64-98f2-7be90acd548c",
   "metadata": {
    "pycharm": {
     "name": "#%%\n"
    }
   },
   "outputs": [],
   "source": [
    "inventory_list = [\n",
    "    {\n",
    "        'cookie_name': 'peanut butter',\n",
    "        'cookie_recipe_url': 'https://some.aweso.me/cookie/peanut.html',\n",
    "        'cookie_sku': 'PB01',\n",
    "        'quantity': '24',\n",
    "        'unit_cost': '0.25'\n",
    "    },\n",
    "    {\n",
    "        'cookie_name': 'oatmeal raisin',\n",
    "        'cookie_recipe_url': 'https://some.okay.me/cookie/raisin.html',\n",
    "        'cookie_sku': 'EWW01',\n",
    "        'quantity': '100',\n",
    "        'unit_cost': '1.00'\n",
    "    }\n",
    "]"
   ]
  },
  {
   "cell_type": "code",
   "execution_count": 15,
   "id": "46b03138-0952-4104-8966-1c9ecb1d971e",
   "metadata": {
    "pycharm": {
     "name": "#%%\n"
    }
   },
   "outputs": [],
   "source": [
    "result = connection.execute(ins, inventory_list)"
   ]
  },
  {
   "cell_type": "markdown",
   "id": "40ba86ce-34a0-4553-a410-174cdbcbfec9",
   "metadata": {
    "pycharm": {
     "name": "#%% md\n"
    }
   },
   "source": [
    "### Querying"
   ]
  },
  {
   "cell_type": "code",
   "execution_count": 16,
   "id": "ace66e79-771d-4094-8d30-001884bb367e",
   "metadata": {
    "pycharm": {
     "name": "#%%\n"
    }
   },
   "outputs": [],
   "source": [
    "from sqlalchemy.sql import select\n",
    "\n",
    "s = select(cookies)"
   ]
  },
  {
   "cell_type": "code",
   "execution_count": 17,
   "outputs": [
    {
     "data": {
      "text/plain": "[(1, 'chocolate chip', 'https://some.aweso.me/cookie/recipe.html', 'CC01', 12, 0.5),\n (2, 'dark chocolate chip', 'https://some.aweso.me/cookie/recipe_dark.html', 'CC02', 1, 0.75),\n (3, 'peanut butter', 'https://some.aweso.me/cookie/peanut.html', 'PB01', 24, 0.25),\n (4, 'oatmeal raisin', 'https://some.okay.me/cookie/raisin.html', 'EWW01', 100, 1.0)]"
     },
     "execution_count": 17,
     "metadata": {},
     "output_type": "execute_result"
    }
   ],
   "source": [
    "rp = connection.execute(s)\n",
    "results = rp.fetchall()\n",
    "results"
   ],
   "metadata": {
    "collapsed": false,
    "pycharm": {
     "name": "#%%\n"
    }
   }
  },
  {
   "cell_type": "code",
   "execution_count": 18,
   "id": "2025f8f8-6204-4526-81eb-de32341f4ad8",
   "metadata": {
    "pycharm": {
     "name": "#%%\n"
    }
   },
   "outputs": [
    {
     "name": "stdout",
     "output_type": "stream",
     "text": [
      "chocolate chip\n",
      "chocolate chip\n",
      "chocolate chip\n"
     ]
    }
   ],
   "source": [
    "first_row = results[0]\n",
    "print(first_row[1])\n",
    "print(first_row.cookie_name)\n",
    "print(first_row[cookies.c.cookie_name])"
   ]
  },
  {
   "cell_type": "code",
   "execution_count": 19,
   "id": "8a78d3e9-9bac-4ba8-a4e8-957f87b98f90",
   "metadata": {
    "pycharm": {
     "name": "#%%\n"
    }
   },
   "outputs": [
    {
     "name": "stdout",
     "output_type": "stream",
     "text": [
      "chocolate chip\n",
      "dark chocolate chip\n",
      "peanut butter\n",
      "oatmeal raisin\n"
     ]
    }
   ],
   "source": [
    "rp = connection.execute(s)\n",
    "for record in rp:\n",
    "    print(record.cookie_name)"
   ]
  },
  {
   "cell_type": "code",
   "execution_count": 20,
   "id": "edd7a68b-9954-4b1c-a661-e833e14a3899",
   "metadata": {
    "pycharm": {
     "name": "#%%\n"
    }
   },
   "outputs": [
    {
     "name": "stdout",
     "output_type": "stream",
     "text": [
      "RMKeyView(['cookie_name', 'quantity'])\n",
      "('chocolate chip', 12)\n"
     ]
    }
   ],
   "source": [
    "s = select(cookies.c.cookie_name, cookies.c.quantity)\n",
    "rp = connection.execute(s)\n",
    "print(rp.keys())\n",
    "result = rp.first()\n",
    "print(result)"
   ]
  },
  {
   "cell_type": "code",
   "execution_count": 21,
   "id": "b413a3eb-359c-45fd-9145-d8ad34f81915",
   "metadata": {
    "pycharm": {
     "name": "#%%\n"
    }
   },
   "outputs": [
    {
     "name": "stdout",
     "output_type": "stream",
     "text": [
      "1 - dark chocolate chip\n",
      "12 - chocolate chip\n",
      "24 - peanut butter\n",
      "100 - oatmeal raisin\n"
     ]
    }
   ],
   "source": [
    "s = select(cookies.c.cookie_name, cookies.c.quantity)\n",
    "s = s.order_by(cookies.c.quantity)\n",
    "rp = connection.execute(s)\n",
    "for cookie in rp:\n",
    "    print(f'{cookie.quantity} - {cookie.cookie_name}')"
   ]
  },
  {
   "cell_type": "code",
   "execution_count": 22,
   "id": "bc35013e-f02e-4641-9351-31f74a62ad62",
   "metadata": {
    "pycharm": {
     "name": "#%%\n"
    }
   },
   "outputs": [
    {
     "data": {
      "text/plain": "[('oatmeal raisin', 100),\n ('peanut butter', 24),\n ('chocolate chip', 12),\n ('dark chocolate chip', 1)]"
     },
     "execution_count": 22,
     "metadata": {},
     "output_type": "execute_result"
    }
   ],
   "source": [
    "from sqlalchemy import desc\n",
    "\n",
    "s = select(cookies.c.cookie_name, cookies.c.quantity)\n",
    "s = s.order_by(desc(cookies.c.quantity))\n",
    "rp = connection.execute(s)\n",
    "results = rp.fetchall()\n",
    "results"
   ]
  },
  {
   "cell_type": "code",
   "execution_count": 23,
   "id": "4f51cff7-8595-4294-b3c2-449103462892",
   "metadata": {
    "pycharm": {
     "name": "#%%\n"
    }
   },
   "outputs": [
    {
     "name": "stdout",
     "output_type": "stream",
     "text": [
      "['dark chocolate chip', 'chocolate chip']\n"
     ]
    }
   ],
   "source": [
    "s = select(cookies.c.cookie_name, cookies.c.quantity)\n",
    "s = s.order_by(cookies.c.quantity)\n",
    "s = s.limit(2)\n",
    "# s = select(cookies.c.cookie_name, cookies.c.quantity).order_by(cookies.c.quantity).limit(2)\n",
    "rp = connection.execute(s)\n",
    "print([result.cookie_name for result in rp])"
   ]
  },
  {
   "cell_type": "code",
   "execution_count": 24,
   "id": "fc8fc14a-b253-4591-9b56-f2fec04b0ecb",
   "metadata": {
    "pycharm": {
     "name": "#%%\n"
    }
   },
   "outputs": [
    {
     "name": "stdout",
     "output_type": "stream",
     "text": [
      "137\n"
     ]
    }
   ],
   "source": [
    "from sqlalchemy.sql import func\n",
    "\n",
    "s = select(func.sum(cookies.c.quantity))\n",
    "rp = connection.execute(s)\n",
    "print(rp.scalar())"
   ]
  },
  {
   "cell_type": "code",
   "execution_count": 25,
   "id": "4eb13d67-490e-4266-b993-31015dcbb5e5",
   "metadata": {
    "pycharm": {
     "name": "#%%\n"
    }
   },
   "outputs": [
    {
     "name": "stdout",
     "output_type": "stream",
     "text": [
      "RMKeyView(['count_1'])\n",
      "4\n"
     ]
    }
   ],
   "source": [
    "s = select(func.count(cookies.c.cookie_name))\n",
    "rp = connection.execute(s)\n",
    "record = rp.first()\n",
    "print(record.keys())\n",
    "print(record.count_1)"
   ]
  },
  {
   "cell_type": "code",
   "execution_count": 26,
   "id": "a02fda71-2cc1-4988-8051-a0e641bc71fc",
   "metadata": {
    "pycharm": {
     "name": "#%%\n"
    }
   },
   "outputs": [
    {
     "name": "stdout",
     "output_type": "stream",
     "text": [
      "RMKeyView(['inventory_count'])\n",
      "4\n"
     ]
    }
   ],
   "source": [
    "s = select(func.count(cookies.c.cookie_name).label('inventory_count'))\n",
    "rp = connection.execute(s)\n",
    "record = rp.first()\n",
    "print(record.keys())\n",
    "print(record.inventory_count)"
   ]
  },
  {
   "cell_type": "code",
   "execution_count": 27,
   "id": "73ddbdab-7d26-4cd7-a808-129c48429f25",
   "metadata": {
    "pycharm": {
     "name": "#%%\n"
    }
   },
   "outputs": [
    {
     "name": "stdout",
     "output_type": "stream",
     "text": [
      "(1, 'chocolate chip', 'https://some.aweso.me/cookie/recipe.html', 'CC01', 12, 0.5)\n"
     ]
    }
   ],
   "source": [
    "s = select(cookies).where(cookies.c.cookie_name == 'chocolate chip')\n",
    "rp = connection.execute(s)\n",
    "record = rp.first()\n",
    "print(record)"
   ]
  },
  {
   "cell_type": "code",
   "execution_count": 28,
   "id": "a8d4ad42-9d77-4831-821e-17fae2f5ba96",
   "metadata": {
    "pycharm": {
     "name": "#%%\n"
    }
   },
   "outputs": [
    {
     "name": "stdout",
     "output_type": "stream",
     "text": [
      "chocolate chip\n",
      "dark chocolate chip\n"
     ]
    }
   ],
   "source": [
    "s = select(cookies).where(cookies.c.cookie_name.like('%chocolate%'))\n",
    "rp = connection.execute(s)\n",
    "for record in rp.fetchall():\n",
    "    print(record.cookie_name)"
   ]
  },
  {
   "cell_type": "code",
   "execution_count": 29,
   "id": "7500cf00-cbd4-44fc-92d8-073568887a02",
   "metadata": {
    "pycharm": {
     "name": "#%%\n"
    }
   },
   "outputs": [
    {
     "name": "stdout",
     "output_type": "stream",
     "text": [
      "('chocolate chip', 'SKU-CC01')\n",
      "('dark chocolate chip', 'SKU-CC02')\n",
      "('peanut butter', 'SKU-PB01')\n",
      "('oatmeal raisin', 'SKU-EWW01')\n"
     ]
    }
   ],
   "source": [
    "s = select(cookies.c.cookie_name, 'SKU-' + cookies.c.cookie_sku)\n",
    "for row in connection.execute(s):\n",
    "    print(row)"
   ]
  },
  {
   "cell_type": "markdown",
   "id": "a68ca398-27a6-4959-8e04-cc4e90433fc8",
   "metadata": {
    "pycharm": {
     "name": "#%% md\n"
    }
   },
   "source": [
    "### Cast"
   ]
  },
  {
   "cell_type": "code",
   "execution_count": 30,
   "id": "e0545f53-5e10-45d0-a07e-9f463c8d240b",
   "metadata": {
    "pycharm": {
     "name": "#%%\n"
    }
   },
   "outputs": [
    {
     "name": "stdout",
     "output_type": "stream",
     "text": [
      "chocolate chip - 6.0\n",
      "dark chocolate chip - 0.75\n",
      "peanut butter - 6.0\n",
      "oatmeal raisin - 100.0\n"
     ]
    }
   ],
   "source": [
    "from sqlalchemy import cast\n",
    "\n",
    "s = select(cookies.c.cookie_name, cast((cookies.c.quantity * cookies.c.unit_cost), Float(12)).label('inv_cost'))\n",
    "for row in connection.execute(s):\n",
    "    print(f'{row.cookie_name} - {row.inv_cost}')"
   ]
  },
  {
   "cell_type": "markdown",
   "id": "741fd821-e134-46be-857b-b647b7323f12",
   "metadata": {
    "pycharm": {
     "name": "#%% md\n"
    }
   },
   "source": [
    "### Boolean"
   ]
  },
  {
   "cell_type": "code",
   "execution_count": 31,
   "id": "863a6e47-d080-4f21-8082-baeb14610897",
   "metadata": {
    "pycharm": {
     "name": "#%%\n"
    }
   },
   "outputs": [
    {
     "name": "stdout",
     "output_type": "stream",
     "text": [
      "peanut butter\n"
     ]
    }
   ],
   "source": [
    "from sqlalchemy import and_, or_\n",
    "\n",
    "s = select(cookies).where(\n",
    "    and_(\n",
    "        cookies.c.quantity > 23,\n",
    "        cookies.c.unit_cost < 0.40\n",
    "    )\n",
    ")\n",
    "\n",
    "for row in connection.execute(s):\n",
    "    print(row.cookie_name)"
   ]
  },
  {
   "cell_type": "code",
   "execution_count": 32,
   "id": "4a2ac9ca-0401-4927-8b5f-12cee9711655",
   "metadata": {
    "pycharm": {
     "name": "#%%\n"
    }
   },
   "outputs": [
    {
     "name": "stdout",
     "output_type": "stream",
     "text": [
      "chocolate chip\n",
      "dark chocolate chip\n",
      "peanut butter\n"
     ]
    }
   ],
   "source": [
    "s = select(cookies).where(\n",
    "    or_(\n",
    "        cookies.c.quantity.between(10, 50),\n",
    "        cookies.c.cookie_name.contains('chip')\n",
    "    )\n",
    ")\n",
    "\n",
    "for row in connection.execute(s):\n",
    "    print(row.cookie_name)"
   ]
  },
  {
   "cell_type": "markdown",
   "id": "fd76e7b2-d5e1-476f-93e8-0044806469ef",
   "metadata": {
    "pycharm": {
     "name": "#%% md\n"
    }
   },
   "source": [
    "### Update"
   ]
  },
  {
   "cell_type": "code",
   "execution_count": 33,
   "id": "5c978e74-ceaf-42ad-8a3a-ab704134df0a",
   "metadata": {
    "pycharm": {
     "name": "#%%\n"
    }
   },
   "outputs": [
    {
     "name": "stdout",
     "output_type": "stream",
     "text": [
      "1\n"
     ]
    }
   ],
   "source": [
    "from sqlalchemy import update\n",
    "\n",
    "u = update(cookies).where(cookies.c.cookie_name == \"chocolate chip\")\n",
    "u = u.values(quantity=(cookies.c.quantity + 120))\n",
    "result = connection.execute(u)\n",
    "print(result.rowcount)"
   ]
  },
  {
   "cell_type": "code",
   "execution_count": 34,
   "id": "dde4297a-aef4-41db-9b4c-e36a3157711f",
   "metadata": {
    "pycharm": {
     "name": "#%%\n"
    }
   },
   "outputs": [
    {
     "name": "stdout",
     "output_type": "stream",
     "text": [
      "           cookie_id: 1\n",
      "         cookie_name: chocolate chip\n",
      "   cookie_recipe_url: https://some.aweso.me/cookie/recipe.html\n",
      "          cookie_sku: CC01\n",
      "            quantity: 132\n",
      "           unit_cost: 0.5\n"
     ]
    }
   ],
   "source": [
    "s = select(cookies).where(cookies.c.cookie_name == \"chocolate chip\")\n",
    "result = connection.execute(s).first()\n",
    "for key in result.keys():\n",
    "    print(f'{key:>20}: {result[key]}')"
   ]
  },
  {
   "cell_type": "code",
   "execution_count": 35,
   "id": "fa5a5468-8047-4b1b-8e6c-514dbfba214f",
   "metadata": {
    "pycharm": {
     "name": "#%%\n"
    }
   },
   "outputs": [
    {
     "name": "stdout",
     "output_type": "stream",
     "text": [
      "1\n"
     ]
    }
   ],
   "source": [
    "from sqlalchemy import delete\n",
    "\n",
    "u = delete(cookies).where(cookies.c.cookie_name == \"dark chocolate chip\")\n",
    "result = connection.execute(u)\n",
    "print(result.rowcount)"
   ]
  },
  {
   "cell_type": "code",
   "execution_count": 36,
   "id": "7a1bc872-3918-4597-aed2-2aa026d38d17",
   "metadata": {
    "pycharm": {
     "name": "#%%\n"
    }
   },
   "outputs": [
    {
     "name": "stdout",
     "output_type": "stream",
     "text": [
      "0\n"
     ]
    }
   ],
   "source": [
    "s = select(cookies).where(cookies.c.cookie_name == \"dark chocolate chip\")\n",
    "result = connection.execute(s).fetchall()\n",
    "print(len(result))"
   ]
  },
  {
   "cell_type": "markdown",
   "source": [
    "### Join"
   ],
   "metadata": {
    "collapsed": false,
    "pycharm": {
     "name": "#%% md\n"
    }
   }
  },
  {
   "cell_type": "code",
   "execution_count": 37,
   "id": "ae92f8f6-bc43-4218-bc26-0f08a5151f11",
   "metadata": {
    "pycharm": {
     "name": "#%%\n"
    }
   },
   "outputs": [
    {
     "name": "stdout",
     "output_type": "stream",
     "text": [
      "<sqlalchemy.engine.cursor.LegacyCursorResult object at 0x000001EF50294E20>\n"
     ]
    }
   ],
   "source": [
    "customer_list = [\n",
    "    {\n",
    "        'username': 'cookiemon',\n",
    "        'email_address': 'mon@cookie.com',\n",
    "        'phone': '111-111-1111',\n",
    "        'password': 'password'\n",
    "    },\n",
    "    {\n",
    "        'username': 'cakeeater',\n",
    "        'email_address': 'cakeeater@cake.com',\n",
    "        'phone': '222-222-2222',\n",
    "        'password': 'password'\n",
    "    },\n",
    "    {\n",
    "        'username': 'pieguy',\n",
    "        'email_address': 'guy@pie.com',\n",
    "        'phone': '333-333-3333',\n",
    "        'password': 'password'\n",
    "    }\n",
    "]\n",
    "\n",
    "# ins = users.insert()\n",
    "# result = connection.execute(ins, customer_list)\n",
    "ins = insert(users).values(customer_list)\n",
    "result = connection.execute(ins)\n",
    "print(result)"
   ]
  },
  {
   "cell_type": "code",
   "execution_count": 38,
   "outputs": [
    {
     "name": "stdout",
     "output_type": "stream",
     "text": [
      "[(1, None, 'cookiemon', 'mon@cookie.com', '111-111-1111', 'password', datetime.datetime(2022, 7, 27, 13, 32, 3, 746751), datetime.datetime(2022, 7, 27, 13, 32, 3, 746751)), (2, None, 'cakeeater', 'cakeeater@cake.com', '222-222-2222', 'password', datetime.datetime(2022, 7, 27, 13, 32, 3, 746751), datetime.datetime(2022, 7, 27, 13, 32, 3, 746751)), (3, None, 'pieguy', 'guy@pie.com', '333-333-3333', 'password', datetime.datetime(2022, 7, 27, 13, 32, 3, 746751), datetime.datetime(2022, 7, 27, 13, 32, 3, 746751))]\n"
     ]
    }
   ],
   "source": [
    "s = select(users)\n",
    "result = connection.execute(s)\n",
    "print(result.fetchall())"
   ],
   "metadata": {
    "collapsed": false,
    "pycharm": {
     "name": "#%%\n"
    }
   }
  },
  {
   "cell_type": "code",
   "execution_count": 39,
   "id": "5b625fda-be11-4f5a-a78e-18ca826662e4",
   "metadata": {
    "pycharm": {
     "name": "#%%\n"
    }
   },
   "outputs": [
    {
     "name": "stdout",
     "output_type": "stream",
     "text": [
      "<sqlalchemy.engine.cursor.LegacyCursorResult object at 0x000001EF4E307EE0>\n"
     ]
    }
   ],
   "source": [
    "ins = insert(orders).values(user_id=1, order_id=1)\n",
    "result = connection.execute(ins)\n",
    "print(result)"
   ]
  },
  {
   "cell_type": "code",
   "execution_count": 40,
   "outputs": [
    {
     "name": "stdout",
     "output_type": "stream",
     "text": [
      "[(1, 1, False)]\n"
     ]
    }
   ],
   "source": [
    "s = select(orders)\n",
    "result = connection.execute(s)\n",
    "print(result.fetchall())"
   ],
   "metadata": {
    "collapsed": false,
    "pycharm": {
     "name": "#%%\n"
    }
   }
  },
  {
   "cell_type": "code",
   "execution_count": 42,
   "outputs": [
    {
     "name": "stdout",
     "output_type": "stream",
     "text": [
      "<sqlalchemy.engine.cursor.LegacyCursorResult object at 0x000001EF5244C910>\n"
     ]
    }
   ],
   "source": [
    "order_items = [\n",
    "    {\n",
    "        'order_id': 1,\n",
    "        'cookie_id': 1,\n",
    "        'quantity': 2,\n",
    "        'extended_cost': 1.00\n",
    "    },\n",
    "    {\n",
    "        'order_id': 1,\n",
    "        'cookie_id': 3,\n",
    "        'quantity': 12,\n",
    "        'extended_cost': 3.00\n",
    "    }\n",
    "]\n",
    "ins = insert(line_items).values(order_items)\n",
    "result = connection.execute(ins)\n",
    "print(result)"
   ],
   "metadata": {
    "collapsed": false,
    "pycharm": {
     "name": "#%%\n"
    }
   }
  },
  {
   "cell_type": "code",
   "execution_count": 43,
   "id": "da91846d-7365-4238-9478-43943e4776ea",
   "metadata": {
    "pycharm": {
     "name": "#%%\n"
    }
   },
   "outputs": [],
   "source": [
    "ins = insert(orders).values(user_id=2, order_id=2)\n",
    "result = connection.execute(ins)"
   ]
  },
  {
   "cell_type": "code",
   "execution_count": 44,
   "outputs": [
    {
     "name": "stdout",
     "output_type": "stream",
     "text": [
      "[(1, 1, False), (2, 2, False)]\n"
     ]
    }
   ],
   "source": [
    "s = select(orders)\n",
    "result = connection.execute(s)\n",
    "print(result.fetchall())"
   ],
   "metadata": {
    "collapsed": false,
    "pycharm": {
     "name": "#%%\n"
    }
   }
  },
  {
   "cell_type": "code",
   "execution_count": 45,
   "outputs": [
    {
     "name": "stdout",
     "output_type": "stream",
     "text": [
      "<sqlalchemy.engine.cursor.LegacyCursorResult object at 0x000001EF515E7BB0>\n"
     ]
    }
   ],
   "source": [
    "order_items = [\n",
    "    {\n",
    "        'order_id': 2,\n",
    "        'cookie_id': 1,\n",
    "        'quantity': 24,\n",
    "        'extended_cost': 12.00\n",
    "    },\n",
    "    {\n",
    "        'order_id': 2,\n",
    "        'cookie_id': 4,\n",
    "        'quantity': 6,\n",
    "        'extended_cost': 6.00\n",
    "    }\n",
    "]\n",
    "ins = insert(line_items).values(order_items)\n",
    "result = connection.execute(ins)\n",
    "print(result)"
   ],
   "metadata": {
    "collapsed": false,
    "pycharm": {
     "name": "#%%\n"
    }
   }
  },
  {
   "cell_type": "code",
   "execution_count": 46,
   "outputs": [
    {
     "name": "stdout",
     "output_type": "stream",
     "text": [
      "[(1, 1, 1, 2, 1.0), (2, 1, 3, 12, 3.0), (3, 2, 1, 24, 12.0), (4, 2, 4, 6, 6.0)]\n"
     ]
    }
   ],
   "source": [
    "s = select(line_items)\n",
    "result = connection.execute(s)\n",
    "print(result.fetchall())"
   ],
   "metadata": {
    "collapsed": false,
    "pycharm": {
     "name": "#%%\n"
    }
   }
  },
  {
   "cell_type": "code",
   "execution_count": 47,
   "id": "0ee9f877-1f6c-4cf3-9c74-3bb42d3313c3",
   "metadata": {
    "pycharm": {
     "name": "#%%\n"
    }
   },
   "outputs": [
    {
     "name": "stdout",
     "output_type": "stream",
     "text": [
      "(1, 'cookiemon', '111-111-1111', 'chocolate chip', 2, 1.0)\n",
      "(1, 'cookiemon', '111-111-1111', 'peanut butter', 12, 3.0)\n"
     ]
    }
   ],
   "source": [
    "columns = [orders.c.order_id, users.c.username, users.c.phone, cookies.c.cookie_name, line_items.c.quantity,\n",
    "           line_items.c.extended_cost]\n",
    "cookiemon_orders = select(columns)\n",
    "cookiemon_orders = cookiemon_orders.select_from(orders.join(users).join(line_items).join(cookies)).where(\n",
    "    users.c.username == 'cookiemon')\n",
    "result = connection.execute(cookiemon_orders).fetchall()\n",
    "for row in result:\n",
    "    print(row)"
   ]
  },
  {
   "cell_type": "code",
   "execution_count": 48,
   "id": "b3af2157-3c66-4aeb-af32-e512b6364ae8",
   "metadata": {
    "pycharm": {
     "name": "#%%\n"
    }
   },
   "outputs": [
    {
     "name": "stdout",
     "output_type": "stream",
     "text": [
      "(1, 'cookiemon', '111-111-1111', 'chocolate chip', 2, 1.0)\n",
      "(1, 'cookiemon', '111-111-1111', 'peanut butter', 12, 3.0)\n"
     ]
    }
   ],
   "source": [
    "columns = [orders.c.order_id, users.c.username, users.c.phone,\n",
    "           cookies.c.cookie_name, line_items.c.quantity,\n",
    "           line_items.c.extended_cost]\n",
    "cookiemon_orders = select(columns)\n",
    "cookiemon_orders = cookiemon_orders.select_from(orders.join(users).join(\n",
    "    line_items).join(cookies)).where(users.c.username == 'cookiemon')\n",
    "result = connection.execute(cookiemon_orders).fetchall()\n",
    "for row in result:\n",
    "    print(row)"
   ]
  },
  {
   "cell_type": "code",
   "execution_count": 49,
   "id": "e0929b07-00cf-449b-a4b0-22309b9bd075",
   "metadata": {
    "pycharm": {
     "name": "#%%\n"
    }
   },
   "outputs": [
    {
     "name": "stdout",
     "output_type": "stream",
     "text": [
      "('cakeeater', 1)\n",
      "('cookiemon', 1)\n",
      "('pieguy', 0)\n"
     ]
    }
   ],
   "source": [
    "columns = [users.c.username, func.count(orders.c.order_id)]\n",
    "all_orders = select(columns)\n",
    "all_orders = all_orders.select_from(users.outerjoin(orders))\n",
    "all_orders = all_orders.group_by(users.c.username)\n",
    "result = connection.execute(all_orders).fetchall()\n",
    "for row in result:\n",
    "    print(row)"
   ]
  },
  {
   "cell_type": "code",
   "execution_count": 50,
   "id": "8f9854b8-f3e3-4a70-9675-ec1ef95946b2",
   "metadata": {
    "pycharm": {
     "name": "#%%\n"
    }
   },
   "outputs": [],
   "source": [
    "employee_table = Table('employee', metadata,\n",
    "                       Column('id', Integer, primary_key=True),\n",
    "                       Column('manager', None, ForeignKey('employee.id')),\n",
    "                       Column('name', String(255))\n",
    "                       )"
   ]
  },
  {
   "cell_type": "code",
   "execution_count": 51,
   "id": "7f3d2a83-a4a1-46cf-8613-20c9ddc77cbc",
   "metadata": {
    "pycharm": {
     "name": "#%%\n"
    }
   },
   "outputs": [
    {
     "name": "stdout",
     "output_type": "stream",
     "text": [
      "('cakeeater', 1)\n",
      "('cookiemon', 1)\n",
      "('pieguy', 0)\n"
     ]
    }
   ],
   "source": [
    "columns = [users.c.username, func.count(orders.c.order_id)]\n",
    "all_orders = select(columns)\n",
    "all_orders = all_orders.select_from(users.outerjoin(orders))\n",
    "all_orders = all_orders.group_by(users.c.username)\n",
    "result = connection.execute(all_orders).fetchall()\n",
    "for row in result:\n",
    "    print(row)"
   ]
  },
  {
   "cell_type": "code",
   "execution_count": 52,
   "id": "d86467e1-ecec-4f63-96ea-e1916d194194",
   "metadata": {
    "pycharm": {
     "name": "#%%\n"
    }
   },
   "outputs": [],
   "source": [
    "def get_orders_by_customer(cust_name):\n",
    "    columns = [orders.c.order_id, users.c.username, users.c.phone,\n",
    "               cookies.c.cookie_name, line_items.c.quantity,\n",
    "               line_items.c.extended_cost]\n",
    "    cust_orders = select(columns)\n",
    "    cust_orders = cust_orders.select_from(users.join(orders).join(line_items).join(cookies))\n",
    "    cust_orders = cust_orders.where(users.c.username == cust_name)\n",
    "    result = connection.execute(cust_orders).fetchall()\n",
    "    return result"
   ]
  },
  {
   "cell_type": "code",
   "execution_count": 53,
   "id": "d8c2cccf-51ef-4259-ae5d-fb0064ba083d",
   "metadata": {
    "pycharm": {
     "name": "#%%\n"
    }
   },
   "outputs": [
    {
     "data": {
      "text/plain": "[(2, 'cakeeater', '222-222-2222', 'chocolate chip', 24, 12.0),\n (2, 'cakeeater', '222-222-2222', 'oatmeal raisin', 6, 6.0)]"
     },
     "execution_count": 53,
     "metadata": {},
     "output_type": "execute_result"
    }
   ],
   "source": [
    "get_orders_by_customer('cakeeater')"
   ]
  },
  {
   "cell_type": "code",
   "execution_count": 54,
   "id": "94cee78c-f90c-4106-b409-969b38be177a",
   "metadata": {
    "pycharm": {
     "name": "#%%\n"
    }
   },
   "outputs": [],
   "source": [
    "def get_orders_by_customer(cust_name, shipped=None, details=False):\n",
    "    columns = [orders.c.order_id, users.c.username, users.c.phone]\n",
    "    joins = users.join(orders)\n",
    "    if details:\n",
    "        columns.extend([cookies.c.cookie_name, line_items.c.quantity, line_items.c.extended_cost])\n",
    "        joins = joins.join(line_items).join(cookies)\n",
    "    cust_orders = select(columns)\n",
    "    cust_orders = cust_orders.select_from(joins)\n",
    "    cust_orders = cust_orders.where(users.c.username == cust_name)\n",
    "    if shipped is not None:\n",
    "        cust_orders = cust_orders.where(orders.c.shipped == shipped)\n",
    "    result = connection.execute(cust_orders).fetchall()\n",
    "    return result"
   ]
  },
  {
   "cell_type": "code",
   "execution_count": 55,
   "id": "660b434e-3112-4fa5-b94e-8fe5922fd405",
   "metadata": {
    "pycharm": {
     "name": "#%%\n"
    }
   },
   "outputs": [
    {
     "data": {
      "text/plain": "[(2, 'cakeeater', '222-222-2222', 'chocolate chip', 24, 12.0),\n (2, 'cakeeater', '222-222-2222', 'oatmeal raisin', 6, 6.0)]"
     },
     "execution_count": 55,
     "metadata": {},
     "output_type": "execute_result"
    }
   ],
   "source": [
    "get_orders_by_customer('cakeeater')\n",
    "get_orders_by_customer('cakeeater', details=True)\n",
    "get_orders_by_customer('cakeeater', shipped=True)\n",
    "get_orders_by_customer('cakeeater', shipped=False)\n",
    "get_orders_by_customer('cakeeater', shipped=False, details=True)"
   ]
  },
  {
   "cell_type": "code",
   "execution_count": 56,
   "id": "793aeac4-0b38-4733-a40f-646396fa1617",
   "metadata": {
    "pycharm": {
     "name": "#%%\n"
    }
   },
   "outputs": [
    {
     "name": "stdout",
     "output_type": "stream",
     "text": [
      "[(1, 1, 0), (2, 2, 0)]\n"
     ]
    }
   ],
   "source": [
    "result = connection.execute(\"select * from orders\").fetchall()\n",
    "print(result)"
   ]
  },
  {
   "cell_type": "code",
   "execution_count": 57,
   "id": "f7e3a816-52ba-42d1-9ad0-50fb2dbb8d34",
   "metadata": {
    "pycharm": {
     "name": "#%%\n"
    }
   },
   "outputs": [
    {
     "name": "stdout",
     "output_type": "stream",
     "text": [
      "[(1, None, 'cookiemon', 'mon@cookie.com', '111-111-1111', 'password', datetime.datetime(2022, 7, 27, 13, 32, 3, 746751), datetime.datetime(2022, 7, 27, 13, 32, 3, 746751))]\n"
     ]
    }
   ],
   "source": [
    "from sqlalchemy import text\n",
    "\n",
    "stmt = select([users]).where(text(\"username='cookiemon'\"))\n",
    "print(connection.execute(stmt).fetchall())"
   ]
  },
  {
   "cell_type": "code",
   "execution_count": 50,
   "id": "92695cc4-66dc-4dc4-96c8-1825c877a677",
   "metadata": {
    "pycharm": {
     "name": "#%%\n"
    }
   },
   "outputs": [],
   "source": []
  }
 ],
 "metadata": {
  "kernelspec": {
   "display_name": "Python 3 (ipykernel)",
   "language": "python",
   "name": "python3"
  },
  "language_info": {
   "codemirror_mode": {
    "name": "ipython",
    "version": 3
   },
   "file_extension": ".py",
   "mimetype": "text/x-python",
   "name": "python",
   "nbconvert_exporter": "python",
   "pygments_lexer": "ipython3",
   "version": "3.10.4"
  }
 },
 "nbformat": 4,
 "nbformat_minor": 5
}